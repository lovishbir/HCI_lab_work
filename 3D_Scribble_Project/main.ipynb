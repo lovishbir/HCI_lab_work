import cv2
import numpy as np
import torch
import torch.nn as nn
import torch.optim as optim
import matplotlib.pyplot as plt
import bpy
import speech_recognition as sr

# Define the neural network model
class SketchToModel(nn.Module):
    def __init__(self):
        super(SketchToModel, self).__init__()
        self.encoder = nn.Sequential(
            nn.Conv2d(1, 64, kernel_size=3),
            nn.ReLU(),
            nn.MaxPool2d(kernel_size=2),
            nn.Conv2d(64, 128, kernel_size=3),
            nn.ReLU(),
            nn.MaxPool2d(kernel_size=2),
            nn.Conv2d(128, 256, kernel_size=3),
            nn.ReLU(),
            nn.MaxPool2d(kernel_size=2)
        )
        self.decoder = nn.Sequential(
            nn.Linear(256 * 4 * 4, 128),
            nn.ReLU(),
            nn.Linear(128, 3),
            nn.Tanh()
        )

    def forward(self, x):
        x = self.encoder(x)
        x = x.view(-1, 256 * 4 * 4)
        x = self.decoder(x)
        return x

# Function to preprocess the sketch
def preprocess_sketch(sketch):
    gray = cv2.cvtColor(sketch, cv2.COLOR_BGR2GRAY)
    resized = cv2.resize(gray, (256, 256))
    return resized

# Function to generate a 3D model from a sketch
def generate_3d_model(model, sketch):
    sketch = preprocess_sketch(sketch)
    sketch = torch.from_numpy(sketch).unsqueeze(0).unsqueeze(0).float()
    output = model(sketch)
    vertices = output.detach().numpy()
    faces = np.array([[0, 1, 2], [0, 2, 3]])
    return vertices, faces

# Function to handle voice commands
def listen_for_commands():
    recognizer = sr.Recognizer()
    with sr.Microphone() as source:
        print("Listening for commands...")
        audio = recognizer.listen(source)
        try:
            command = recognizer.recognize_google(audio)
            print(f"You said: {command}")
            return command
        except sr.UnknownValueError:
            print("Sorry, I did not understand that.")
            return None
        except sr.RequestError:
            print("Could not request results from Google Speech Recognition service.")
            return None

# Main function to run the application
def main():
    model = SketchToModel()
    # Load a sketch (replace with actual sketch loading logic)
    sketch = cv2.imread('path/to/sketch.png')
    
    # Generate the 3D model
    vertices, faces = generate_3d_model(model, sketch)
    
    # Create a new Blender scene and add the mesh
    bpy.ops.scene.new(type='EMPTY')
    mesh = bpy.data.meshes.new('SketchMesh')
    obj = bpy.data.objects.new('SketchObject', mesh)
    bpy.context.collection.objects.link(obj)
    mesh.from_pydata(vertices, [], faces)
    mesh.update(calc_edges=True)
    
    # Listen for voice commands
    command = listen_for_commands()
    if command:
        # Implement command handling logic here
        pass

if __name__ == "__main__":
    main()
