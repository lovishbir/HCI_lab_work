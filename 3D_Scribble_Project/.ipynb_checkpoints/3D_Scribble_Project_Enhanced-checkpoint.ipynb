{
 "cells": [
  {
   "cell_type": "code",
   "execution_count": null,
   "metadata": {},
   "outputs": [],
   "source": [
    "import matplotlib.pyplot as plt\n",
    "import numpy as np\n",
    "from matplotlib.widgets import Button\n",
    "from mpl_toolkits.mplot3d import Axes3D\n",
    "from skimage.measure import marching_cubes\n",
    "import matplotlib\n",
    "import speech_recognition as sr\n",
    "import threading\n",
    "from gtts import gTTS\n",
    "import os\n",
    "import platform\n",
    "import subprocess\n",
    "\n",
    "# Set Matplotlib to use interactive TkAgg backend\n",
    "matplotlib.use(\"TkAgg\")\n",
    "\n",
    "# 3D voxel grid for accurate shapes\n",
    "grid_size = 50\n",
    "voxels = np.zeros((grid_size, grid_size, grid_size))\n",
    "\n",
    "# Initialize figure with a modern style\n",
    "fig, (ax3d, ax2d) = plt.subplots(1, 2, figsize=(14, 7), gridspec_kw={'width_ratios': [2, 1]})\n",
    "ax3d = fig.add_subplot(121, projection=\"3d\", facecolor=\"black\")\n",
    "ax2d.set_xlim(0, grid_size)\n",
    "ax2d.set_ylim(0, grid_size)\n",
    "ax2d.set_title(\"2D Scribble Area\", fontsize=12, fontweight=\"bold\", color=\"white\")\n",
    "ax2d.axis(\"off\")"
   ]
  },
  {
   "cell_type": "code",
   "execution_count": null,
   "metadata": {},
   "outputs": [],
   "source": [
    "# Function to speak messages\n",
    "def speak_message(message):\n",
    "    tts = gTTS(text=message, lang=\"en\")\n",
    "    tts.save(\"message.mp3\")\n",
    "    if platform.system() == \"Darwin\":\n",
    "        subprocess.run([\"afplay\", \"message.mp3\"])\n",
    "    elif platform.system() == \"Linux\":\n",
    "        subprocess.run([\"xdg-open\", \"message.mp3\"])\n",
    "    elif platform.system() == \"Windows\":\n",
    "        os.system(\"start message.mp3\")"
   ]
  },
  {
   "cell_type": "code",
   "execution_count": null,
   "metadata": {},
   "outputs": [],
   "source": [
    "# Convert voxel data to 3D model using marching cubes\n",
    "def update_3d():\n",
    "    ax3d.clear()\n",
    "    ax3d.set_title(\"3D Model\", fontsize=14, fontweight=\"bold\", color=\"white\")\n",
    "    ax3d.axis(\"off\")\n",
    "    ax3d.set_facecolor(\"black\")\n",
    "\n",
    "    if np.max(voxels) == 0:\n",
    "        print(\"No shape detected.\")\n",
    "        return\n",
    "\n",
    "    vertices, faces, _, _ = marching_cubes(voxels, level=0.5)\n",
    "    ax3d.plot_trisurf(vertices[:, 0], vertices[:, 1], vertices[:, 2], triangles=faces, cmap=\"plasma\", alpha=0.85)\n",
    "    fig.canvas.draw_idle()"
   ]
  },
  {
   "cell_type": "code",
   "execution_count": null,
   "metadata": {},
   "outputs": [],
   "source": [
    "# Draw a shape in the voxel grid\n",
    "def draw_shape(shape_type):\n",
    "    global voxels\n",
    "    if shape_type == 'sphere':\n",
    "        cx, cy, cz, radius = grid_size // 2, grid_size // 2, grid_size // 2, 10\n",
    "        for x in range(grid_size):\n",
    "            for y in range(grid_size):\n",
    "                for z in range(grid_size):\n",
    "                    if (x - cx) ** 2 + (y - cy) ** 2 + (z - cz) ** 2 <= radius ** 2:\n",
    "                        if voxels[x, y, z] == 0:  # Check for overlap\n",
    "                            voxels[x, y, z] = 1\n",
    "        update_3d()\n",
    "        speak_message(\"Sphere drawn successfully!\")\n",
    "    elif shape_type == 'cuboid':\n",
    "        cx, cy, cz, width, height, depth = grid_size // 2, grid_size // 2, grid_size // 2, 20, 10, 10\n",
    "        x_start, x_end = max(0, cx - width // 2), min(grid_size, cx + width // 2)\n",
    "        y_start, y_end = max(0, cy - height // 2), min(grid_size, cy + height // 2)\n",
    "        z_start, z_end = max(0, cz - depth // 2), min(grid_size, cz + depth // 2)\n",
    "\n",
    "        for x in range(x_start, x_end):\n",
    "            for y in range(y_start, y_end):\n",
    "                for z in range(z_start, z_end):\n",
    "                    if voxels[x, y, z] == 0:  # Check for overlap\n",
    "                        voxels[x, y, z] = 1\n",
    "        update_3d()\n",
    "        speak_message(\"Cuboid drawn successfully!\")"
   ]
  },
  {
   "cell_type": "code",
   "execution_count": null,
   "metadata": {},
   "outputs": [],
   "source": [
    "# Handle voice commands\n",
    "def handle_voice_command(command):\n",
    "    if \"sphere\" in command:\n",
    "        draw_shape('sphere')\n",
    "    elif \"cuboid\" in command:\n",
    "        draw_shape('cuboid')\n",
    "    elif \"clear\" in command:\n",
    "        clear_canvas()\n",
    "        speak_message(\"Canvas cleared.\")\n",
    "    else:\n",
    "        speak_message(\"Command not recognized.\")"
   ]
  },
  {
   "cell_type": "code",
   "execution_count": null,
   "metadata": {},
   "outputs": [],
   "source": [
    "# Continuous voice listening\n",
    "def continuous_listening():\n",
    "    recognizer = sr.Recognizer()\n",
    "    with sr.Microphone() as source:\n",
    "        speak_message(\"Say 'Stop' to end voice input.\")\n",
    "        while True:\n",
    "            try:\n",
    "                audio = recognizer.listen(source, timeout=5)\n",
    "                command = recognizer.recognize_google(audio).lower()\n",
    "                if \"stop\" in command:\n",
    "                    speak_message(\"Voice input stopped.\")\n",
    "                    break\n",
    "                handle_voice_command(command)\n",
    "            except sr.UnknownValueError:\n",
    "                print(\"Could not understand.\")\n",
    "            except sr.RequestError as e:\n",
    "                print(f\"Speech recognition request failed: {e}\")"
   ]
  },
  {
   "cell_type": "code",
   "execution_count": null,
   "metadata": {},
   "outputs": [],
   "source": [
    "# Start voice command listener in a separate thread\n",
    "def start_voice_listener():\n",
    "    listener_thread = threading.Thread(target=continuous_listening, daemon=True)\n",
    "    listener_thread.start()"
   ]
  },
  {
   "cell_type": "code",
   "execution_count": null,
   "metadata": {},
   "outputs": [],
   "source": [
    "# Clear the voxel grid\n",
    "def clear_canvas():\n",
    "    global voxels\n",
    "    voxels.fill(0)\n",
    "    ax2d.clear()\n",
    "    ax2d.set_xlim(0, grid_size)\n",
    "    ax2d.set_ylim(0, grid_size)\n",
    "    ax2d.set_title(\"2D Scribble Area\", fontsize=12, fontweight=\"bold\", color=\"white\")\n",
    "    ax2d.axis(\"off\")\n",
    "    update_3d()"
   ]
  },
  {
   "cell_type": "code",
   "execution_count": null,
   "metadata": {},
   "outputs": [],
   "source": [
    "# Mouse event to capture scribble\n",
    "scribble_points = []\n",
    "def on_mouse_press(event):\n",
    "    if event.xdata is not None and event.ydata is not None:\n",
    "        scribble_points.append((int(event.xdata), int(event.ydata)))\n",
    "        ax2d.plot(event.xdata, event.ydata, 'ro', markersize=3)\n",
    "        fig.canvas.draw()"
   ]
  },
  {
   "cell_type": "code",
   "execution_count": null,
   "metadata": {},
   "outputs": [],
   "source": [
    "# Convert 2D scribble into a 3D shape\n",
    "def convert_scribble_to_3d():\n",
    "    global voxels\n",
    "    for x, y in scribble_points:\n",
    "        if voxels[x, y, grid_size // 2] == 0:  # Check for overlap\n",
    "            voxels[x, y, grid_size // 2] = 1\n",
    "    update_3d()\n",
    "    speak_message(\"Scribble converted to 3D model!\")"
   ]
  },
  {
   "cell_type": "code",
   "execution_count": null,
   "metadata": {},
   "outputs": [],
   "source": [
    "# Add Buttons for Better UI\n",
    "button_color = \"#FF5733\"  # Vibrant color\n",
    "\n",
    "button_ax1 = fig.add_axes([0.75, 0.02, 0.1, 0.05])  # Button position\n",
    "button_ax2 = fig.add_axes([0.85, 0.02, 0.1, 0.05])  # Button position\n",
    "button_ax3 = fig.add_axes([0.75, 0.10, 0.1, 0.05])  # Button position\n",
    "button_ax4 = fig.add_axes([0.85, 0.10, 0.1, 0.05])  # Button position\n",
    "\n",
    "sphere_button = Button(button_ax1, \"Sphere\", color=button_color, hovercolor=\"lightgray\")\n",
    "cuboid_button = Button(button_ax2, \"Cuboid\", color=button_color, hovercolor=\"lightgray\")\n",
    "clear_button = Button(button_ax3, \"Clear\", color=button_color, hovercolor=\"lightgray\")\n",
    "scribble_button = Button(button_ax4, \"Scribble → 3D\", color=button_color, hovercolor=\"lightgray\")\n",
    "\n",
    "sphere_button.on_clicked(lambda event: draw_shape('sphere'))\n",
    "cuboid_button.on_clicked(lambda event: draw_shape('cuboid'))\n",
    "clear_button.on_clicked(lambda event: clear_canvas())\n",
    "scribble_button.on_clicked(lambda event: convert_scribble_to_3d())\n",
    "\n",
    "# Connect mouse event\n",
    "fig.canvas.mpl_connect(\"button_press_event\", on_mouse_press)\n",
    "\n",
    "# Start the UI\n",
    "start_voice_listener()\n",
    "update_3d()\n",
    "plt.show()"
   ]
  }
 ],
 "metadata": {
  "kernelspec": {
   "display_name": "Python 3",
   "language": "python",
   "name": "python3"
  },
  "language_info": {
   "codemirror_mode": {
    "name": "ipython",
    "version": 3
   },
   "file_extension": ".py",
   "mimetype": "text/x-python",
   "name": "python",
   "nbconvert_exporter": "python",
   "pygments_lexer": "ipython3",
   "version": "3.8.5"
  }
 },
 "nbformat": 4,
 "nbformat_minor": 4
}
