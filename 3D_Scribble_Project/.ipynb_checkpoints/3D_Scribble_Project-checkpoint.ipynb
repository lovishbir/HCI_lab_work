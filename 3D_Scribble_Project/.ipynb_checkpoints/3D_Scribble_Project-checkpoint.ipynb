{
 "cells": [
  {
   "cell_type": "code",
   "execution_count": null,
   "metadata": {},
   "outputs": [],
   "source": [
    "import cv2\n",
    "import numpy as np\n",
    "import torch\n",
    "import torch.nn as nn\n",
    "import torch.optim as optim\n",
    "import matplotlib.pyplot as plt\n",
    "import bpy\n",
    "import speech_recognition as sr"
   ]
  },
  {
   "cell_type": "code",
   "execution_count": null,
   "metadata": {},
   "outputs": [],
   "source": [
    "# Define the neural network model\n",
    "class SketchToModel(nn.Module):\n",
    "    def __init__(self):\n",
    "        super(SketchToModel, self).__init__()\n",
    "        self.encoder = nn.Sequential(\n",
    "            nn.Conv2d(1, 64, kernel_size=3),\n",
    "            nn.ReLU(),\n",
    "            nn.MaxPool2d(kernel_size=2),\n",
    "            nn.Conv2d(64, 128, kernel_size=3),\n",
    "            nn.ReLU(),\n",
    "            nn.MaxPool2d(kernel_size=2),\n",
    "            nn.Conv2d(128, 256, kernel_size=3),\n",
    "            nn.ReLU(),\n",
    "            nn.MaxPool2d(kernel_size=2)\n",
    "        )\n",
    "        self.decoder = nn.Sequential(\n",
    "            nn.Linear(256 * 4 * 4, 128),\n",
    "            nn.ReLU(),\n",
    "            nn.Linear(128, 3),\n",
    "            nn.Tanh()\n",
    "        )\n",
    "\n",
    "    def forward(self, x):\n",
    "        x = self.encoder(x)\n",
    "        x = x.view(-1, 256 * 4 * 4)\n",
    "        x = self.decoder(x)\n",
    "        return x"
   ]
  },
  {
   "cell_type": "code",
   "execution_count": null,
   "metadata": {},
   "outputs": [],
   "source": [
    "# Function to preprocess the sketch\n",
    "def preprocess_sketch(sketch):\n",
    "    gray = cv2.cvtColor(sketch, cv2.COLOR_BGR2GRAY)\n",
    "    resized = cv2.resize(gray, (256, 256))\n",
    "    return resized"
   ]
  },
  {
   "cell_type": "code",
   "execution_count": null,
   "metadata": {},
   "outputs": [],
   "source": [
    "# Function to generate a 3D model from a sketch\n",
    "def generate_3d_model(model, sketch):\n",
    "    sketch = preprocess_sketch(sketch)\n",
    "    sketch = torch.from_numpy(sketch).unsqueeze(0).unsqueeze(0).float()\n",
    "    output = model(sketch)\n",
    "    vertices = output.detach().numpy()\n",
    "    faces = np.array([[0, 1, 2], [0, 2, 3]])\n",
    "    return vertices, faces"
   ]
  },
  {
   "cell_type": "code",
   "execution_count": null,
   "metadata": {},
   "outputs": [],
   "source": [
    "# Function to handle voice commands\n",
    "def listen_for_commands():\n",
    "    recognizer = sr.Recognizer()\n",
    "    with sr.Microphone() as source:\n",
    "        print(\"Listening for commands...\")\n",
    "        audio = recognizer.listen(source)\n",
    "        try:\n",
    "            command = recognizer.recognize_google(audio)\n",
    "            print(f\"You said: {command}\")\n",
    "            return command\n",
    "        except sr.UnknownValueError:\n",
    "            print(\"Sorry, I did not understand that.\")\n",
    "            return None\n",
    "        except sr.RequestError:\n",
    "            print(\"Could not request results from Google Speech Recognition service.\")\n",
    "            return None"
   ]
  },
  {
   "cell_type": "code",
   "execution_count": null,
   "metadata": {},
   "outputs": [],
   "source": [
    "# Main function to run the application\n",
    "def main():\n",
    "    model = SketchToModel()\n",
    "    # Load a sketch (replace with actual sketch loading logic)\n",
    "    sketch = cv2.imread('path/to/sketch.png')\n",
    "    \n",
    "    # Generate the 3D model\n",
    "    vertices, faces = generate_3d_model(model, sketch)\n",
    "    \n",
    "    # Create a new Blender scene and add the mesh\n",
    "    bpy.ops.scene.new(type='EMPTY')\n",
    "    mesh = bpy.data.meshes.new('SketchMesh')\n",
    "    obj = bpy.data.objects.new('SketchObject', mesh)\n",
    "    bpy.context.collection.objects.link(obj)\n",
    "    mesh.from_pydata(vertices, [], faces)\n",
    "    mesh.update(calc_edges=True)\n",
    "    \n",
    "    # Listen for voice commands\n",
    "    command = listen_for_commands()\n",
    "    if command:\n",
    "        # Implement command handling logic here\n",
    "        pass\n",
    "\n",
    "if __name__ == \"__main__\":\n",
    "    main()"
   ]
  }
 ],
 "metadata": {
  "kernelspec": {
   "display_name": "Python 3",
   "language": "python",
   "name": "python3"
  },
  "language_info": {
   "codemirror_mode": {
    "name": "ipython",
    "version": 3
   },
   "file_extension": ".py",
   "mimetype": "text/x-python",
   "name": "python",
   "nbconvert_exporter": "python",
   "pygments_lexer": "ipython3",
   "version": "3.8.5"
  }
 },
 "nbformat": 4,
 "nbformat_minor": 4
}
